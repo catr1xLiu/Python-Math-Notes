{
 "cells": [
  {
   "cell_type": "markdown",
   "id": "d1e2b509",
   "metadata": {},
   "source": [
    "# Sympy Basics\n",
    "\n",
    "This is a notebook about some basic features of sympy, [Official Dodcumentation is here](https://docs.sympy.org/latest/tutorials/intro-tutorial/features.html)\n",
    "\n"
   ]
  },
  {
   "cell_type": "code",
   "execution_count": 1,
   "id": "2246bc86",
   "metadata": {},
   "outputs": [
    {
     "name": "stdout",
     "output_type": "stream",
     "text": [
      "Note: you may need to restart the kernel to use updated packages.\n"
     ]
    }
   ],
   "source": [
    "%pip install sympy>=1.14.0"
   ]
  },
  {
   "cell_type": "markdown",
   "id": "bfad1125",
   "metadata": {},
   "source": [
    "### Part1: Symbolic Mathematics\n",
    "\n",
    "> Sympy is a Python library for symbolic mathematics\n",
    "\n",
    "Unlike most code that does numerical computations, Sympy allows you to perform mathematical operations symbolically.\n",
    "\n",
    "Let's look at this example here. Calling the same function `sqrt(8)`. `math` estimates the floating point value of The value of $\\sqrt{8}$; while `sympy` simplifies it to $2*\\sqrt{2}$"
   ]
  },
  {
   "cell_type": "code",
   "execution_count": 27,
   "id": "d752c6ae",
   "metadata": {},
   "outputs": [
    {
     "name": "stdout",
     "output_type": "stream",
     "text": [
      "With math, sqrt(8) =  2.8284271247461903\n",
      "With Sympy, sqrt(8) =  2*sqrt(2)\n",
      "With math, pi*2 =  6.283185307179586\n",
      "With Sympy, pi*2= 2*pi\n"
     ]
    }
   ],
   "source": [
    "import sympy\n",
    "import math\n",
    "\n",
    "print(\"With math, sqrt(8) = \", math.sqrt(8))\n",
    "print(\"With Sympy, sqrt(8) = \", sympy.sqrt(8))\n",
    "\n",
    "print(\"With math, pi*2 = \", math.pi * 2)\n",
    "print(\"With Sympy, pi*2=\", sympy.pi * 2)"
   ]
  },
  {
   "cell_type": "markdown",
   "id": "a97728bd",
   "metadata": {},
   "source": [
    "## Part2: Symbols & Expressions\n",
    "\n",
    "In SymPy, every symbol is represented as a Python object. To construct any expression using these symbols, we simply use Python operators to \"compute\" them."
   ]
  },
  {
   "cell_type": "code",
   "execution_count": 39,
   "id": "74dc4d20",
   "metadata": {},
   "outputs": [
    {
     "name": "stdout",
     "output_type": "stream",
     "text": [
      "x a b c delta gamma\n"
     ]
    }
   ],
   "source": [
    "'''\n",
    "Creating Symbols\n",
    "'''\n",
    "# Creates a single symbol\n",
    "x = sympy.symbols('x') \n",
    "# Creates multiple symbols at once\n",
    "a, b, c = sympy.symbols('a,b,c')\n",
    "# Symbol names can be words\n",
    "delta, gamma = sympy.symbols('delta gamma') \n",
    "\n",
    "print(x, a, b, c, delta, gamma)"
   ]
  },
  {
   "cell_type": "code",
   "execution_count": 40,
   "id": "9689dc54",
   "metadata": {},
   "outputs": [
    {
     "name": "stdout",
     "output_type": "stream",
     "text": [
      "a*delta + b*gamma + c + x\n"
     ]
    }
   ],
   "source": [
    "'''\n",
    "Forming an expression from symbols\n",
    "'''\n",
    "expression = x + a*delta + b*gamma + c\n",
    "\n",
    "# When we print an expression, symbols are shown as their assigned names\n",
    "print(expression)"
   ]
  },
  {
   "cell_type": "markdown",
   "id": "8db71344",
   "metadata": {},
   "source": [
    "## Part3: Expression Operations\n",
    "\n",
    "We can add, subtract, multiply and divide existing expressions, and `SymPy` will represent the results as symbolic expressions.\n",
    "We can also factor and expand expressions, and compare expressions to each other."
   ]
  },
  {
   "cell_type": "code",
   "execution_count": 41,
   "id": "4da95acf",
   "metadata": {},
   "outputs": [],
   "source": [
    "# Create some expressions\n",
    "expression1 = a+b\n",
    "expression2 = a-b\n",
    "expression3 = (a-4*b)"
   ]
  },
  {
   "cell_type": "code",
   "execution_count": 42,
   "id": "0a42c4ca",
   "metadata": {},
   "outputs": [
    {
     "name": "stdout",
     "output_type": "stream",
     "text": [
      "2*a\n",
      "(a - 4*b)*(a - b)*(a + b)\n",
      "2*b\n",
      "sin(a + b)**(sqrt(a - b))\n"
     ]
    }
   ],
   "source": [
    "'''\n",
    "Mathematical Operations with Expressions\n",
    "'''\n",
    "\n",
    "print(expression1+expression2) \n",
    "expression4 = expression1 * expression2 * expression3 \n",
    "print(expression1 * expression2 * expression3)\n",
    "print(expression1 - expression2)\n",
    "print(sympy.sin(expression1) ** sympy.sqrt(expression2))"
   ]
  },
  {
   "cell_type": "code",
   "execution_count": null,
   "id": "cce85814",
   "metadata": {},
   "outputs": [
    {
     "name": "stdout",
     "output_type": "stream",
     "text": [
      "a**3 - 4*a**2*b - a*b**2 + 4*b**3\n",
      "(a - 4*b)*(a - b)*(a + b)\n",
      "(a - b)*(a + b)\n"
     ]
    }
   ],
   "source": [
    "'''\n",
    "Expanding & Factoring expression'''\n",
    "\n",
    "\n",
    "expression4 = sympy.expand(expression4)\n",
    "print(expression4)\n",
    "expression4 = sympy.factor(expression4)\n",
    "print(expression4)\n",
    "print(sympy.factor(a**2 - b**2))"
   ]
  },
  {
   "cell_type": "code",
   "execution_count": 44,
   "id": "f10e3ca8",
   "metadata": {},
   "outputs": [
    {
     "name": "stdout",
     "output_type": "stream",
     "text": [
      "False\n",
      "True\n",
      "0\n",
      "0\n"
     ]
    }
   ],
   "source": [
    "'''\n",
    "Comparing Expressions\n",
    "'''\n",
    "first_expression = (a+b) * (a-b)\n",
    "first_expression_2 =  (a-b) * (a+b)\n",
    "second_expression = a**2 - b**2\n",
    "\n",
    "# Checks if two expressions are structurally identical\n",
    "print(first_expression == second_expression) # False\n",
    "# Explaination: first_expression must be expanded to become second_expression.\n",
    "print(first_expression == first_expression_2) # True\n",
    "# Explaination: the two expressions are stucturely identical despite written in slightly different order\n",
    "\n",
    "# Checks if two expressions are mathematically equal\n",
    "print(sympy.simplify(first_expression - second_expression)) # 0, which means they are equal\n",
    "# Another way to check if two expressions are mathematically equal:\n",
    "print(sympy.expand(first_expression - second_expression)) # 0, which means they are equal\n"
   ]
  },
  {
   "cell_type": "markdown",
   "id": "11a542e4",
   "metadata": {},
   "source": [
    "## Part4: Dealing with Numerical Values\n",
    "\n",
    "If we want to estimate the specific output of an expression, we must specify the value of every symbol in it. From there, we can also estimate the floating-point value."
   ]
  },
  {
   "cell_type": "code",
   "execution_count": 45,
   "id": "cbcf2ebb",
   "metadata": {},
   "outputs": [],
   "source": [
    "# Create some expressions\n",
    "expression1 = x ** 2\n",
    "expression2 = a + b + sympy.sqrt(c)\n"
   ]
  },
  {
   "cell_type": "code",
   "execution_count": 46,
   "id": "8ee9dc99",
   "metadata": {},
   "outputs": [
    {
     "name": "stdout",
     "output_type": "stream",
     "text": [
      "25\n",
      "sqrt(2) + 5\n"
     ]
    }
   ],
   "source": [
    "'''\n",
    "Bringing the value of symbols into an expression\n",
    "'''\n",
    "\n",
    "result1 = expression1.subs(x, 5)\n",
    "print(result1)\n",
    "\n",
    "result2 = expression2.subs([(a, 2), (b, 3), (c, 2)])\n",
    "print(result2)"
   ]
  },
  {
   "cell_type": "code",
   "execution_count": 47,
   "id": "5dc01f65",
   "metadata": {},
   "outputs": [
    {
     "name": "stdout",
     "output_type": "stream",
     "text": [
      "6.41421356237309\n",
      "a + b + c**0.5\n"
     ]
    }
   ],
   "source": [
    "'''\n",
    "Estimats the floating point value of an expression\n",
    "'''\n",
    "\n",
    "print(result2.evalf())\n",
    "\n",
    "# Tries to compute the floating point value of an expression with symbols\n",
    "print(expression2.evalf()) # is stil a + b + c**0.5"
   ]
  },
  {
   "cell_type": "markdown",
   "id": "1378ce7a",
   "metadata": {},
   "source": [
    "## Part5: Calculus"
   ]
  },
  {
   "cell_type": "code",
   "execution_count": null,
   "id": "dde5e38a",
   "metadata": {},
   "outputs": [
    {
     "name": "stdout",
     "output_type": "stream",
     "text": [
      "2*x + cos(x) + 5\n",
      "2*x\n",
      "2*a\n",
      "x**3/3 + 5*x**2/2 - cos(x)\n",
      "8*pi**3/3 + 10*pi**2\n",
      "AccumBounds(-2, 2)\n",
      "sqrt(2)*sqrt(pi)/2\n"
     ]
    }
   ],
   "source": [
    "'''\n",
    "Find the expression of the derrivative of a formula\n",
    "'''\n",
    "formula1 = x ** 2 + 5*x + sympy.sin(x)\n",
    "formula1_derrivate = sympy.diff(formula1)\n",
    "print(formula1_derrivate)"
   ]
  },
  {
   "cell_type": "code",
   "execution_count": 48,
   "id": "a93223c3",
   "metadata": {},
   "outputs": [
    {
     "name": "stdout",
     "output_type": "stream",
     "text": [
      "2*x\n",
      "2*a\n"
     ]
    }
   ],
   "source": [
    "'''\n",
    "Finding the derrivate of a formula to a given symbol. \n",
    "'''\n",
    "formula2 = x**2 + a**2\n",
    "formula2_derrivate_to_x = sympy.diff(formula2, x)\n",
    "formula2_derrivate_to_a = sympy.diff(formula2, a)\n",
    "print(formula2_derrivate_to_x)\n",
    "print(formula2_derrivate_to_a)"
   ]
  },
  {
   "cell_type": "code",
   "execution_count": 49,
   "id": "0a60fbf5",
   "metadata": {},
   "outputs": [
    {
     "name": "stdout",
     "output_type": "stream",
     "text": [
      "x**3/3 + 5*x**2/2 - cos(x)\n",
      "8*pi**3/3 + 10*pi**2\n"
     ]
    }
   ],
   "source": [
    "'''\n",
    "Integrating functions\n",
    "'''\n",
    "\n",
    "# Indefinite integral\n",
    "formula1_integration = sympy.integrate(formula1)\n",
    "print(formula1_integration)\n",
    "# Definite integral (based on symbolic operations)\n",
    "print(sympy.integrate(formula1, (x, 0, 2 * sympy.pi)))"
   ]
  },
  {
   "cell_type": "code",
   "execution_count": 51,
   "id": "647f1e22",
   "metadata": {},
   "outputs": [
    {
     "name": "stdout",
     "output_type": "stream",
     "text": [
      "AccumBounds(-2, 2)\n",
      "sqrt(2)*sqrt(pi)/2\n"
     ]
    }
   ],
   "source": [
    "'''\n",
    "Working with infinities\n",
    "'''\n",
    "\n",
    "# The integral of sin(x) from negative infinity to positive infinity\n",
    "result1 = sympy.integrate(sympy.sin(x), (x, -sympy.oo, sympy.oo))\n",
    "print(result1)\n",
    "# The integral of sin(x^2) from negative infinity to positive infinity\n",
    "result2 = sympy.integrate(sympy.sin(x**2), (x, -sympy.oo, sympy.oo))\n",
    "print(result2)"
   ]
  },
  {
   "cell_type": "code",
   "execution_count": 55,
   "id": "8aac3a2a",
   "metadata": {},
   "outputs": [
    {
     "name": "stdout",
     "output_type": "stream",
     "text": [
      "nan\n",
      "-1\n"
     ]
    }
   ],
   "source": [
    "'''\n",
    "Finding limits\n",
    "'''\n",
    "expression = sympy.sin(2-x) / (x-2)\n",
    "\n",
    "# The function is undfined at x=2\n",
    "# Estimating its value at x=2 gives as nan\n",
    "print(expression.subs(x, 2).evalf())\n",
    "\n",
    "# Find the limit of the expression at x = 2\n",
    "# Uses the Lohospital's rule\n",
    "expression_limit_at_2 = sympy.limit(expression, x, 2)\n",
    "print(expression_limit_at_2)"
   ]
  },
  {
   "cell_type": "markdown",
   "id": "c4cafd73",
   "metadata": {},
   "source": [
    "## Solving Equations"
   ]
  },
  {
   "cell_type": "code",
   "execution_count": null,
   "id": "5f8b60f3",
   "metadata": {},
   "outputs": [
    {
     "name": "stdout",
     "output_type": "stream",
     "text": [
      "[1/2, 1]\n",
      "Eq(x**2, -1)\n",
      "[-I, I]\n",
      "[]\n",
      "[]\n"
     ]
    }
   ],
   "source": [
    "'''\n",
    "Finding the roots of a function\n",
    "'''\n",
    "\n",
    "function1 = 2*x**2 -3*x + 1\n",
    "# Finds the root of a function, returns a list\n",
    "roots = sympy.solve(function1)\n",
    "print(roots)\n"
   ]
  },
  {
   "cell_type": "code",
   "execution_count": null,
   "id": "7ee91b25",
   "metadata": {},
   "outputs": [],
   "source": [
    "'''\n",
    "Finding the solutions to an equation\n",
    "'''\n",
    "# Defines an equations\n",
    "equation1 = sympy.Eq(x-5, 2)\n",
    "print(equation1)\n",
    "\n",
    "# Finds the root of an equation\n",
    "solutions = sympy.solve(equation1)"
   ]
  },
  {
   "cell_type": "code",
   "execution_count": null,
   "id": "40ab1b3c",
   "metadata": {},
   "outputs": [
    {
     "name": "stdout",
     "output_type": "stream",
     "text": [
      "[-I, I]\n",
      "[]\n",
      "[]\n"
     ]
    }
   ],
   "source": [
    "'''\n",
    "Special Cases\n",
    "'''\n",
    "\n",
    "# Tries to solve x^2=-1\n",
    "# In this case, there are no real roots, so i will occur in the solutions\n",
    "equation2 = sympy.Eq(x**2, -1)\n",
    "solutions2 = sympy.solve(equation2)\n",
    "print(solutions2)\n",
    "\n",
    "# We can use is_real to find the real roots\n",
    "real_solutions2 = [sol for sol in solutions2 if sol.is_real]\n",
    "print(real_solutions2) # empty list\n",
    "\n",
    "# Tries to find the root of an impossible equation\n",
    "# Outputs empty list\n",
    "solutions3 = sympy.solve(sympy.Eq(x-1, x))\n",
    "print(solutions3)"
   ]
  },
  {
   "cell_type": "code",
   "execution_count": null,
   "id": "4c12bb33",
   "metadata": {},
   "outputs": [
    {
     "name": "stdout",
     "output_type": "stream",
     "text": [
      "[5 - b]\n",
      "{a: 3, b: 2}\n"
     ]
    }
   ],
   "source": [
    "'''\n",
    "Working with Systems of Equations\n",
    "'''\n",
    "\n",
    "# Define two equations\n",
    "eq1 = sympy.Eq(a+b, 5)\n",
    "eq2 = sympy.Eq(a-b, 1)\n",
    "\n",
    "# Finding the indetermined solution to one of the equation\n",
    "print(sympy.solve(eq1, a)[0])\n",
    "\n",
    "# Finding the specific solution to this system of equations\n",
    "solution = sympy.solve([eq1, eq2], [a, b])\n",
    "print(solution)"
   ]
  },
  {
   "cell_type": "markdown",
   "id": "10c18c18",
   "metadata": {},
   "source": [
    "## Solving Differential Equations"
   ]
  },
  {
   "cell_type": "code",
   "execution_count": 80,
   "id": "4c003392",
   "metadata": {},
   "outputs": [
    {
     "name": "stdout",
     "output_type": "stream",
     "text": [
      "y(t)\n",
      "Derivative(y(t), t)\n",
      "Derivative(y(t), t)\n"
     ]
    }
   ],
   "source": [
    "'''Working with Functions'''\n",
    "\n",
    "# Create a symbol (independent variable)\n",
    "t = sympy.symbols(\"t\")\n",
    "# Create a function (dependent variable)\n",
    "y = sympy.Function(\"y\")\n",
    "\n",
    "# represents the function y with input variable t\n",
    "print(y(t))\n",
    "\n",
    "# represents the derrivate of function y with input variable t\n",
    "print(sympy.diff(y(t)))\n",
    "# or\n",
    "print(y(t).diff())"
   ]
  },
  {
   "cell_type": "code",
   "execution_count": 96,
   "id": "1b3a659c",
   "metadata": {},
   "outputs": [
    {
     "name": "stdout",
     "output_type": "stream",
     "text": [
      "Eq(Derivative(y(t), t), y(t) + 2)\n",
      "Eq(y(t), C1*exp(t) - 2)\n",
      "C1*exp(t) - 2\n",
      "2*exp(t) - 2\n",
      "[Eq(y(t), sin(t)), Eq(x(t), cos(t))]\n"
     ]
    }
   ],
   "source": [
    "'''\n",
    "Solving a Differential Equation\n",
    "'''\n",
    "\n",
    "# Write a differential equation of y to t\n",
    "# dy / dt = 2+y\n",
    "differential_equation = sympy.Eq(y(t).diff(t), 2 + y(t))\n",
    "print(differential_equation)\n",
    "\n",
    "# Solve the differential equation\n",
    "solution = sympy.dsolve(differential_equation)\n",
    "print(solution)\n",
    "# The right-hand-side of the solution is the expression of y(t)\n",
    "print(solution.rhs)\n",
    "# Solve the differential equation with initial condition y(0)=0\n",
    "solution = sympy.dsolve(differential_equation, ics={y(0):0})\n",
    "print(solution.rhs)\n",
    "\n",
    "# Solving systems of differential equations\n",
    "x = sympy.Function(\"x\")\n",
    "y = sympy.Function(\"y\")\n",
    "\n",
    "diff_eq1 = sympy.Eq(y(t).diff(t), x(t))\n",
    "diff_eq2 = sympy.Eq(x(t).diff(t), -y(t))\n",
    "system_of_diff_eq = [diff_eq1, diff_eq2]\n",
    "solution = sympy.dsolve(system_of_diff_eq, ics={x(0):1, y(0):0})\n",
    "print(solution)"
   ]
  },
  {
   "cell_type": "markdown",
   "id": "c4fb4c6d",
   "metadata": {},
   "source": [
    "## Working with Matrices"
   ]
  },
  {
   "cell_type": "code",
   "execution_count": null,
   "id": "955811db",
   "metadata": {},
   "outputs": [],
   "source": [
    "'''\n",
    "Creating Matrices\n",
    "'''\n",
    "\n"
   ]
  },
  {
   "cell_type": "code",
   "execution_count": null,
   "id": "c0d48f59",
   "metadata": {},
   "outputs": [],
   "source": [
    "'''\n",
    "Basic Matrix Operations\n",
    "'''"
   ]
  },
  {
   "cell_type": "code",
   "execution_count": null,
   "id": "3cf1a57f",
   "metadata": {},
   "outputs": [],
   "source": [
    "'''Example1: '''"
   ]
  }
 ],
 "metadata": {
  "kernelspec": {
   "display_name": "Python 3",
   "language": "python",
   "name": "python3"
  },
  "language_info": {
   "codemirror_mode": {
    "name": "ipython",
    "version": 3
   },
   "file_extension": ".py",
   "mimetype": "text/x-python",
   "name": "python",
   "nbconvert_exporter": "python",
   "pygments_lexer": "ipython3",
   "version": "3.13.3"
  }
 },
 "nbformat": 4,
 "nbformat_minor": 5
}
