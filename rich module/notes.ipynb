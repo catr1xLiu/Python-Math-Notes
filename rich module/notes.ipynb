{
 "cells": [
  {
   "cell_type": "markdown",
   "id": "f08286b7",
   "metadata": {},
   "source": [
    "# Rich Module\n",
    "> Writing text with color and style to the terminal, and for displaying advanced content such as tables, markdown, and syntax highlighted code."
   ]
  },
  {
   "cell_type": "markdown",
   "id": "e3a2d155",
   "metadata": {},
   "source": [
    "### 1 - Basic Features"
   ]
  },
  {
   "cell_type": "code",
   "execution_count": 1,
   "id": "01212b57",
   "metadata": {},
   "outputs": [
    {
     "data": {
      "text/html": [
       "<pre style=\"white-space:pre;overflow-x:auto;line-height:normal;font-family:Menlo,'DejaVu Sans Mono',consolas,'Courier New',monospace\">Hello World!\n",
       "</pre>\n"
      ],
      "text/plain": [
       "Hello World!\n"
      ]
     },
     "metadata": {},
     "output_type": "display_data"
    },
    {
     "data": {
      "text/html": [
       "<pre style=\"white-space:pre;overflow-x:auto;line-height:normal;font-family:Menlo,'DejaVu Sans Mono',consolas,'Courier New',monospace\"><span style=\"color: #800000; text-decoration-color: #800000\">red</span> <span style=\"color: #008000; text-decoration-color: #008000\">green</span> <span style=\"color: #000080; text-decoration-color: #000080\">blue</span> \n",
       "<span style=\"color: #808000; text-decoration-color: #808000\">yellow</span> <span style=\"color: #800080; text-decoration-color: #800080\">magenta</span> <span style=\"color: #008080; text-decoration-color: #008080\">cyan</span> \n",
       "<span style=\"color: #c0c0c0; text-decoration-color: #c0c0c0\">white</span>\n",
       "</pre>\n"
      ],
      "text/plain": [
       "\u001b[31mred\u001b[0m \u001b[32mgreen\u001b[0m \u001b[34mblue\u001b[0m \n",
       "\u001b[33myellow\u001b[0m \u001b[35mmagenta\u001b[0m \u001b[36mcyan\u001b[0m \n",
       "\u001b[37mwhite\u001b[0m\n"
      ]
     },
     "metadata": {},
     "output_type": "display_data"
    },
    {
     "data": {
      "text/html": [
       "<pre style=\"white-space:pre;overflow-x:auto;line-height:normal;font-family:Menlo,'DejaVu Sans Mono',consolas,'Courier New',monospace\"><span style=\"color: #ffa500; text-decoration-color: #ffa500\">orange</span> <span style=\"color: #800080; text-decoration-color: #800080\">purple</span>\n",
       "</pre>\n"
      ],
      "text/plain": [
       "\u001b[38;2;255;165;0morange\u001b[0m \u001b[38;2;128;0;128mpurple\u001b[0m\n"
      ]
     },
     "metadata": {},
     "output_type": "display_data"
    },
    {
     "data": {
      "text/html": [
       "<pre style=\"white-space:pre;overflow-x:auto;line-height:normal;font-family:Menlo,'DejaVu Sans Mono',consolas,'Courier New',monospace\">Phone: <span style=\"color: #008080; text-decoration-color: #008080; font-weight: bold\">123</span>-<span style=\"color: #008080; text-decoration-color: #008080; font-weight: bold\">456</span>-<span style=\"color: #008080; text-decoration-color: #008080; font-weight: bold\">7890</span> URL: <span style=\"color: #0000ff; text-decoration-color: #0000ff; text-decoration: underline\">https://example.com</span>\n",
       "</pre>\n"
      ],
      "text/plain": [
       "Phone: \u001b[1;36m123\u001b[0m-\u001b[1;36m456\u001b[0m-\u001b[1;36m7890\u001b[0m URL: \u001b[4;94mhttps://example.com\u001b[0m\n"
      ]
     },
     "metadata": {},
     "output_type": "display_data"
    },
    {
     "data": {
      "text/html": [
       "<pre style=\"white-space:pre;overflow-x:auto;line-height:normal;font-family:Menlo,'DejaVu Sans Mono',consolas,'Courier New',monospace\">⚠ <span style=\"color: #800000; text-decoration-color: #800000; background-color: #808000; font-weight: bold\">This is an import warning</span>\n",
       "</pre>\n"
      ],
      "text/plain": [
       "⚠ \u001b[1;31;43mThis is an import warning\u001b[0m\n"
      ]
     },
     "metadata": {},
     "output_type": "display_data"
    },
    {
     "data": {
      "text/html": [
       "<pre style=\"white-space:pre;overflow-x:auto;line-height:normal;font-family:Menlo,'DejaVu Sans Mono',consolas,'Courier New',monospace\">👋 hello there\n",
       " nice work 👍\n",
       "</pre>\n"
      ],
      "text/plain": [
       "👋 hello there\n",
       " nice work 👍\n"
      ]
     },
     "metadata": {},
     "output_type": "display_data"
    }
   ],
   "source": [
    "# Import print function to replace the system print function\n",
    "from rich import print\n",
    "\n",
    "\n",
    "# Using print statement as usual\n",
    "print(\"Hello World!\")\n",
    "\n",
    "# Adding Colors to Texts\n",
    "print('''[red]red[/red] [green]green[/green] [blue]blue[/blue] \n",
    "[yellow]yellow[/yellow] [magenta]magenta[/magenta] [cyan]cyan[/cyan] \n",
    "[white]white[/white]''')\n",
    "print(\"[rgb(255,165,0)]orange[/rgb(255,165,0)] [#800080]purple[/#800080]\")\n",
    "\n",
    "# Automatic highlighting (enabled by default)\n",
    "print(\"Phone: 123-456-7890 URL: https://example.com\")\n",
    "\n",
    "# Highlighting text backgrounds\n",
    "print(\":warning: [bold red on yellow]This is an import warning[/bold red on yellow]\")\n",
    "\n",
    "\n",
    "# Using emojis in print statements\n",
    "# Run python -m rich.emoji to see all the mojis available\n",
    "print(\":wave: hello there\\n nice work :thumbs_up:\")\n"
   ]
  },
  {
   "cell_type": "markdown",
   "id": "5e4d772f",
   "metadata": {},
   "source": [
    "### 2 - Inspecting Variables & Objects"
   ]
  },
  {
   "cell_type": "code",
   "execution_count": 2,
   "id": "44332b15",
   "metadata": {},
   "outputs": [
    {
     "data": {
      "text/html": [
       "<pre style=\"white-space:pre;overflow-x:auto;line-height:normal;font-family:Menlo,'DejaVu Sans Mono',consolas,'Courier New',monospace\"><span style=\"font-weight: bold\">{</span><span style=\"color: #008000; text-decoration-color: #008000\">'param'</span>: <span style=\"color: #008080; text-decoration-color: #008080; font-weight: bold\">3</span>, <span style=\"color: #008000; text-decoration-color: #008000\">'myInteger'</span>: <span style=\"color: #008080; text-decoration-color: #008080; font-weight: bold\">1</span>, <span style=\"color: #008000; text-decoration-color: #008000\">'myString'</span>: <span style=\"color: #008000; text-decoration-color: #008000\">'Hello'</span><span style=\"font-weight: bold\">}</span>\n",
       "</pre>\n"
      ],
      "text/plain": [
       "\u001b[1m{\u001b[0m\u001b[32m'param'\u001b[0m: \u001b[1;36m3\u001b[0m, \u001b[32m'myInteger'\u001b[0m: \u001b[1;36m1\u001b[0m, \u001b[32m'myString'\u001b[0m: \u001b[32m'Hello'\u001b[0m\u001b[1m}\u001b[0m\n"
      ]
     },
     "metadata": {},
     "output_type": "display_data"
    },
    {
     "data": {
      "text/html": [
       "<pre style=\"white-space:pre;overflow-x:auto;line-height:normal;font-family:Menlo,'DejaVu Sans Mono',consolas,'Courier New',monospace\"><span style=\"font-weight: bold\">&lt;</span><span style=\"color: #ff00ff; text-decoration-color: #ff00ff; font-weight: bold\">__main__.Person</span><span style=\"color: #000000; text-decoration-color: #000000\"> object at </span><span style=\"color: #008080; text-decoration-color: #008080; font-weight: bold\">0x000001C8420EB4D0</span><span style=\"font-weight: bold\">&gt;</span>\n",
       "</pre>\n"
      ],
      "text/plain": [
       "\u001b[1m<\u001b[0m\u001b[1;95m__main__.Person\u001b[0m\u001b[39m object at \u001b[0m\u001b[1;36m0x000001C8420EB4D0\u001b[0m\u001b[1m>\u001b[0m\n"
      ]
     },
     "metadata": {},
     "output_type": "display_data"
    },
    {
     "data": {
      "text/html": [
       "<pre style=\"white-space:pre;overflow-x:auto;line-height:normal;font-family:Menlo,'DejaVu Sans Mono',consolas,'Courier New',monospace\"><span style=\"color: #000080; text-decoration-color: #000080\">╭──────────── </span><span style=\"color: #000080; text-decoration-color: #000080; font-weight: bold\">&lt;</span><span style=\"color: #ff00ff; text-decoration-color: #ff00ff; font-weight: bold\">class</span><span style=\"color: #000000; text-decoration-color: #000000\"> </span><span style=\"color: #008000; text-decoration-color: #008000\">'__main__.Person'</span><span style=\"color: #000080; text-decoration-color: #000080; font-weight: bold\">&gt;</span><span style=\"color: #000080; text-decoration-color: #000080\"> ─────────────╮</span>\n",
       "<span style=\"color: #000080; text-decoration-color: #000080\">│</span> <span style=\"color: #008000; text-decoration-color: #008000\">╭────────────────────────────────────────────────╮</span> <span style=\"color: #000080; text-decoration-color: #000080\">│</span>\n",
       "<span style=\"color: #000080; text-decoration-color: #000080\">│</span> <span style=\"color: #008000; text-decoration-color: #008000\">│</span> <span style=\"font-weight: bold\">&lt;</span><span style=\"color: #ff00ff; text-decoration-color: #ff00ff; font-weight: bold\">__main__.Person</span><span style=\"color: #000000; text-decoration-color: #000000\"> object at </span><span style=\"color: #008080; text-decoration-color: #008080; font-weight: bold\">0x000001C8420EB4D0</span><span style=\"font-weight: bold\">&gt;</span> <span style=\"color: #008000; text-decoration-color: #008000\">│</span> <span style=\"color: #000080; text-decoration-color: #000080\">│</span>\n",
       "<span style=\"color: #000080; text-decoration-color: #000080\">│</span> <span style=\"color: #008000; text-decoration-color: #008000\">╰────────────────────────────────────────────────╯</span> <span style=\"color: #000080; text-decoration-color: #000080\">│</span>\n",
       "<span style=\"color: #000080; text-decoration-color: #000080\">│</span>                                                    <span style=\"color: #000080; text-decoration-color: #000080\">│</span>\n",
       "<span style=\"color: #000080; text-decoration-color: #000080\">│</span>       <span style=\"color: #808000; text-decoration-color: #808000; font-style: italic\">age</span> = <span style=\"color: #008080; text-decoration-color: #008080; font-weight: bold\">12</span>                                     <span style=\"color: #000080; text-decoration-color: #000080\">│</span>\n",
       "<span style=\"color: #000080; text-decoration-color: #000080\">│</span>    <span style=\"color: #808000; text-decoration-color: #808000; font-style: italic\">gender</span> = <span style=\"color: #008000; text-decoration-color: #008000\">'Male'</span>                                 <span style=\"color: #000080; text-decoration-color: #000080\">│</span>\n",
       "<span style=\"color: #000080; text-decoration-color: #000080\">│</span>      <span style=\"color: #808000; text-decoration-color: #808000; font-style: italic\">name</span> = <span style=\"color: #008000; text-decoration-color: #008000\">'John'</span>                                 <span style=\"color: #000080; text-decoration-color: #000080\">│</span>\n",
       "<span style=\"color: #000080; text-decoration-color: #000080\">│</span> <span style=\"color: #808000; text-decoration-color: #808000; font-style: italic\">selfIntro</span> = <span style=\"color: #00ffff; text-decoration-color: #00ffff; font-style: italic\">def </span><span style=\"color: #800000; text-decoration-color: #800000; font-weight: bold\">selfIntro</span><span style=\"font-weight: bold\">()</span>:                       <span style=\"color: #000080; text-decoration-color: #000080\">│</span>\n",
       "<span style=\"color: #000080; text-decoration-color: #000080\">╰────────────────────────────────────────────────────╯</span>\n",
       "</pre>\n"
      ],
      "text/plain": [
       "\u001b[34m╭─\u001b[0m\u001b[34m───────────\u001b[0m\u001b[34m \u001b[0m\u001b[1;34m<\u001b[0m\u001b[1;95mclass\u001b[0m\u001b[39m \u001b[0m\u001b[32m'__main__.Person'\u001b[0m\u001b[1;34m>\u001b[0m\u001b[34m \u001b[0m\u001b[34m────────────\u001b[0m\u001b[34m─╮\u001b[0m\n",
       "\u001b[34m│\u001b[0m \u001b[32m╭────────────────────────────────────────────────╮\u001b[0m \u001b[34m│\u001b[0m\n",
       "\u001b[34m│\u001b[0m \u001b[32m│\u001b[0m \u001b[1m<\u001b[0m\u001b[1;95m__main__.Person\u001b[0m\u001b[39m object at \u001b[0m\u001b[1;36m0x000001C8420EB4D0\u001b[0m\u001b[1m>\u001b[0m \u001b[32m│\u001b[0m \u001b[34m│\u001b[0m\n",
       "\u001b[34m│\u001b[0m \u001b[32m╰────────────────────────────────────────────────╯\u001b[0m \u001b[34m│\u001b[0m\n",
       "\u001b[34m│\u001b[0m                                                    \u001b[34m│\u001b[0m\n",
       "\u001b[34m│\u001b[0m       \u001b[3;33mage\u001b[0m = \u001b[1;36m12\u001b[0m                                     \u001b[34m│\u001b[0m\n",
       "\u001b[34m│\u001b[0m    \u001b[3;33mgender\u001b[0m = \u001b[32m'Male'\u001b[0m                                 \u001b[34m│\u001b[0m\n",
       "\u001b[34m│\u001b[0m      \u001b[3;33mname\u001b[0m = \u001b[32m'John'\u001b[0m                                 \u001b[34m│\u001b[0m\n",
       "\u001b[34m│\u001b[0m \u001b[3;33mselfIntro\u001b[0m = \u001b[3;96mdef \u001b[0m\u001b[1;31mselfIntro\u001b[0m\u001b[1m(\u001b[0m\u001b[1m)\u001b[0m:                       \u001b[34m│\u001b[0m\n",
       "\u001b[34m╰────────────────────────────────────────────────────╯\u001b[0m\n"
      ]
     },
     "metadata": {},
     "output_type": "display_data"
    }
   ],
   "source": [
    "# Printing ALL local variable under a scope\n",
    "def scope(param:int):\n",
    "    myInteger:int = 1\n",
    "    myString:str = \"Hello\"\n",
    "    # Print local variables\n",
    "    print(locals())\n",
    "scope(3)\n",
    "\n",
    "# Inspecting a python object\n",
    "from rich import inspect\n",
    "class Person:\n",
    "    def __init__(self,name:str, age:int, gender:str):\n",
    "        self.name:str = name\n",
    "        self.age:int = age\n",
    "        self.gender:str = gender\n",
    "    \n",
    "    # An example function\n",
    "    def selfIntro(self):\n",
    "        return f\":wave: Hello, my name is {self.name}, I'm {self.age} years old\"\n",
    "person = Person(\"John\", 12, \"Male\")\n",
    "# Prints no useful information\n",
    "print(person)\n",
    "# Prints all properties and available methods of an object\n",
    "inspect(person, methods=True)"
   ]
  },
  {
   "cell_type": "markdown",
   "id": "5f5f0b91",
   "metadata": {},
   "source": [
    "### 3 - Console\n",
    "\n",
    "The more appropriate way of printing elements to the console is through the `Console` object in rich module"
   ]
  },
  {
   "cell_type": "code",
   "execution_count": 3,
   "id": "d6555374",
   "metadata": {},
   "outputs": [
    {
     "data": {
      "text/html": [
       "<pre style=\"white-space:pre;overflow-x:auto;line-height:normal;font-family:Menlo,'DejaVu Sans Mono',consolas,'Courier New',monospace\"><span style=\"color: #800000; text-decoration-color: #800000\">Red Text</span>\n",
       "</pre>\n"
      ],
      "text/plain": [
       "\u001b[31mRed Text\u001b[0m\n"
      ]
     },
     "metadata": {},
     "output_type": "display_data"
    },
    {
     "data": {
      "text/html": [
       "<pre style=\"white-space:pre;overflow-x:auto;line-height:normal;font-family:Menlo,'DejaVu Sans Mono',consolas,'Courier New',monospace\"><span style=\"color: #800000; text-decoration-color: #800000; font-weight: bold; font-style: italic\">Hello World</span>\n",
       "</pre>\n"
      ],
      "text/plain": [
       "\u001b[1;3;31mHello World\u001b[0m\n"
      ]
     },
     "metadata": {},
     "output_type": "display_data"
    },
    {
     "data": {
      "text/html": [
       "<pre style=\"white-space:pre;overflow-x:auto;line-height:normal;font-family:Menlo,'DejaVu Sans Mono',consolas,'Courier New',monospace\"><span style=\"color: #7fbfbf; text-decoration-color: #7fbfbf\">[19:09:20] </span><span style=\"font-weight: bold; font-style: italic\">Hello World!</span>                                                                            <a href=\"file://C:\\Users\\caTr1x\\AppData\\Local\\Temp\\ipykernel_668\\1419983312.py\" target=\"_blank\"><span style=\"color: #7f7f7f; text-decoration-color: #7f7f7f\">1419983312.py</span></a><span style=\"color: #7f7f7f; text-decoration-color: #7f7f7f\">:</span><a href=\"file://C:\\Users\\caTr1x\\AppData\\Local\\Temp\\ipykernel_668\\1419983312.py#10\" target=\"_blank\"><span style=\"color: #7f7f7f; text-decoration-color: #7f7f7f\">10</span></a>\n",
       "</pre>\n"
      ],
      "text/plain": [
       "\u001b[2;36m[19:09:20]\u001b[0m\u001b[2;36m \u001b[0m\u001b[1;3mHello World!\u001b[0m                                                                            \u001b]8;id=640024;file://C:\\Users\\caTr1x\\AppData\\Local\\Temp\\ipykernel_668\\1419983312.py\u001b\\\u001b[2m1419983312.py\u001b[0m\u001b]8;;\u001b\\\u001b[2m:\u001b[0m\u001b]8;id=925447;file://C:\\Users\\caTr1x\\AppData\\Local\\Temp\\ipykernel_668\\1419983312.py#10\u001b\\\u001b[2m10\u001b[0m\u001b]8;;\u001b\\\n"
      ]
     },
     "metadata": {},
     "output_type": "display_data"
    }
   ],
   "source": [
    "# Import console and create the object reference\n",
    "from rich.console import Console\n",
    "console = Console()\n",
    "\n",
    "# We can use console.print() like the basic print() function\n",
    "console.print(\"[red]Red Text[/red]\")\n",
    "console.print(\"Hello World\", style=\"bold red italic\")\n",
    "\n",
    "# Logging (with automatic time-stamp)\n",
    "console.log(\"[bold italic]Hello World![/bold italic]\")\n"
   ]
  },
  {
   "cell_type": "markdown",
   "id": "b521d111",
   "metadata": {},
   "source": [
    "### 4 - Tables\n",
    "We can easily visualize data as tables using the `Table` class"
   ]
  },
  {
   "cell_type": "code",
   "execution_count": 4,
   "id": "7a1e1edd",
   "metadata": {},
   "outputs": [
    {
     "data": {
      "text/html": [
       "<pre style=\"white-space:pre;overflow-x:auto;line-height:normal;font-family:Menlo,'DejaVu Sans Mono',consolas,'Courier New',monospace\"><span style=\"font-style: italic\">          Students          </span>\n",
       "┏━━━━━━┳━━━━━┳━━━━━━━━━━━━━┓\n",
       "┃<span style=\"font-weight: bold\"> Name </span>┃<span style=\"font-weight: bold\"> Age </span>┃<span style=\"font-weight: bold\">         Bio </span>┃\n",
       "┡━━━━━━╇━━━━━╇━━━━━━━━━━━━━┩\n",
       "│<span style=\"color: #008080; text-decoration-color: #008080\"> John </span>│<span style=\"color: #800080; text-decoration-color: #800080\"> 12  </span>│<span style=\"color: #008000; text-decoration-color: #008000\"> Lorem Ipsum </span>│\n",
       "│<span style=\"color: #008080; text-decoration-color: #008080\"> Kyle </span>│<span style=\"color: #800080; text-decoration-color: #800080\"> 15  </span>│<span style=\"color: #008000; text-decoration-color: #008000\"> Lorem Ipsum </span>│\n",
       "└──────┴─────┴─────────────┘\n",
       "</pre>\n"
      ],
      "text/plain": [
       "\u001b[3m          Students          \u001b[0m\n",
       "┏━━━━━━┳━━━━━┳━━━━━━━━━━━━━┓\n",
       "┃\u001b[1m \u001b[0m\u001b[1mName\u001b[0m\u001b[1m \u001b[0m┃\u001b[1m \u001b[0m\u001b[1mAge\u001b[0m\u001b[1m \u001b[0m┃\u001b[1m \u001b[0m\u001b[1m        Bio\u001b[0m\u001b[1m \u001b[0m┃\n",
       "┡━━━━━━╇━━━━━╇━━━━━━━━━━━━━┩\n",
       "│\u001b[36m \u001b[0m\u001b[36mJohn\u001b[0m\u001b[36m \u001b[0m│\u001b[35m \u001b[0m\u001b[35m12 \u001b[0m\u001b[35m \u001b[0m│\u001b[32m \u001b[0m\u001b[32mLorem Ipsum\u001b[0m\u001b[32m \u001b[0m│\n",
       "│\u001b[36m \u001b[0m\u001b[36mKyle\u001b[0m\u001b[36m \u001b[0m│\u001b[35m \u001b[0m\u001b[35m15 \u001b[0m\u001b[35m \u001b[0m│\u001b[32m \u001b[0m\u001b[32mLorem Ipsum\u001b[0m\u001b[32m \u001b[0m│\n",
       "└──────┴─────┴─────────────┘\n"
      ]
     },
     "metadata": {},
     "output_type": "display_data"
    }
   ],
   "source": [
    "from rich.table import Table \n",
    "\n",
    "# Create table instance\n",
    "table = Table(title=\"Students\")\n",
    "\n",
    "# Add columns (title of entries) to the table\n",
    "table.add_column(\"Name\", justify=\"right\", style=\"cyan\", no_wrap = True)\n",
    "table.add_column(\"Age\", style=\"magenta\")\n",
    "table.add_column(\"Bio\", justify=\"right\", style=\"green\")\n",
    "\n",
    "# Add rows to the table\n",
    "# Number of entries fed each time must match the number of columns\n",
    "table.add_row(\"John\", \"12\", \"Lorem Ipsum\")\n",
    "table.add_row(\"Kyle\", \"15\", \"Lorem Ipsum\")\n",
    "\n",
    "console.print(table)\n"
   ]
  },
  {
   "cell_type": "markdown",
   "id": "05c473a9",
   "metadata": {},
   "source": [
    "### 5 - Progress Bar"
   ]
  },
  {
   "cell_type": "code",
   "execution_count": 5,
   "id": "ed5e35ad",
   "metadata": {},
   "outputs": [
    {
     "data": {
      "application/vnd.jupyter.widget-view+json": {
       "model_id": "59ade349c0704239b4e8313e72aad41a",
       "version_major": 2,
       "version_minor": 0
      },
      "text/plain": [
       "Output()"
      ]
     },
     "metadata": {},
     "output_type": "display_data"
    },
    {
     "data": {
      "text/html": [
       "<pre style=\"white-space:pre;overflow-x:auto;line-height:normal;font-family:Menlo,'DejaVu Sans Mono',consolas,'Courier New',monospace\"></pre>\n"
      ],
      "text/plain": []
     },
     "metadata": {},
     "output_type": "display_data"
    }
   ],
   "source": [
    "from rich.progress import track\n",
    "import time\n",
    "for i in track(range(10)):\n",
    "    time.sleep(0.2)"
   ]
  },
  {
   "cell_type": "code",
   "execution_count": 6,
   "id": "fc5392db",
   "metadata": {},
   "outputs": [
    {
     "data": {
      "application/vnd.jupyter.widget-view+json": {
       "model_id": "9dbcc12a30814d10bedfc2b7fc5b606f",
       "version_major": 2,
       "version_minor": 0
      },
      "text/plain": [
       "Output()"
      ]
     },
     "metadata": {},
     "output_type": "display_data"
    },
    {
     "data": {
      "text/html": [
       "<pre style=\"white-space:pre;overflow-x:auto;line-height:normal;font-family:Menlo,'DejaVu Sans Mono',consolas,'Courier New',monospace\"><span style=\"color: #7fbfbf; text-decoration-color: #7fbfbf\">[19:09:22] </span>Task <span style=\"color: #008080; text-decoration-color: #008080; font-weight: bold\">1</span> of <span style=\"color: #008080; text-decoration-color: #008080; font-weight: bold\">10</span> completed                                                                   <a href=\"file://C:\\Users\\caTr1x\\AppData\\Local\\Temp\\ipykernel_668\\2594680452.py\" target=\"_blank\"><span style=\"color: #7f7f7f; text-decoration-color: #7f7f7f\">2594680452.py</span></a><span style=\"color: #7f7f7f; text-decoration-color: #7f7f7f\">:</span><a href=\"file://C:\\Users\\caTr1x\\AppData\\Local\\Temp\\ipykernel_668\\2594680452.py#4\" target=\"_blank\"><span style=\"color: #7f7f7f; text-decoration-color: #7f7f7f\">4</span></a>\n",
       "</pre>\n"
      ],
      "text/plain": [
       "\u001b[2;36m[19:09:22]\u001b[0m\u001b[2;36m \u001b[0mTask \u001b[1;36m1\u001b[0m of \u001b[1;36m10\u001b[0m completed                                                                   \u001b]8;id=667870;file://C:\\Users\\caTr1x\\AppData\\Local\\Temp\\ipykernel_668\\2594680452.py\u001b\\\u001b[2m2594680452.py\u001b[0m\u001b]8;;\u001b\\\u001b[2m:\u001b[0m\u001b]8;id=348003;file://C:\\Users\\caTr1x\\AppData\\Local\\Temp\\ipykernel_668\\2594680452.py#4\u001b\\\u001b[2m4\u001b[0m\u001b]8;;\u001b\\\n"
      ]
     },
     "metadata": {},
     "output_type": "display_data"
    },
    {
     "data": {
      "text/html": [
       "<pre style=\"white-space:pre;overflow-x:auto;line-height:normal;font-family:Menlo,'DejaVu Sans Mono',consolas,'Courier New',monospace\"><span style=\"color: #7fbfbf; text-decoration-color: #7fbfbf\">[19:09:23] </span>Task <span style=\"color: #008080; text-decoration-color: #008080; font-weight: bold\">2</span> of <span style=\"color: #008080; text-decoration-color: #008080; font-weight: bold\">10</span> completed                                                                   <a href=\"file://C:\\Users\\caTr1x\\AppData\\Local\\Temp\\ipykernel_668\\2594680452.py\" target=\"_blank\"><span style=\"color: #7f7f7f; text-decoration-color: #7f7f7f\">2594680452.py</span></a><span style=\"color: #7f7f7f; text-decoration-color: #7f7f7f\">:</span><a href=\"file://C:\\Users\\caTr1x\\AppData\\Local\\Temp\\ipykernel_668\\2594680452.py#4\" target=\"_blank\"><span style=\"color: #7f7f7f; text-decoration-color: #7f7f7f\">4</span></a>\n",
       "</pre>\n"
      ],
      "text/plain": [
       "\u001b[2;36m[19:09:23]\u001b[0m\u001b[2;36m \u001b[0mTask \u001b[1;36m2\u001b[0m of \u001b[1;36m10\u001b[0m completed                                                                   \u001b]8;id=155097;file://C:\\Users\\caTr1x\\AppData\\Local\\Temp\\ipykernel_668\\2594680452.py\u001b\\\u001b[2m2594680452.py\u001b[0m\u001b]8;;\u001b\\\u001b[2m:\u001b[0m\u001b]8;id=681236;file://C:\\Users\\caTr1x\\AppData\\Local\\Temp\\ipykernel_668\\2594680452.py#4\u001b\\\u001b[2m4\u001b[0m\u001b]8;;\u001b\\\n"
      ]
     },
     "metadata": {},
     "output_type": "display_data"
    },
    {
     "data": {
      "text/html": [
       "<pre style=\"white-space:pre;overflow-x:auto;line-height:normal;font-family:Menlo,'DejaVu Sans Mono',consolas,'Courier New',monospace\"><span style=\"color: #7fbfbf; text-decoration-color: #7fbfbf\">           </span>Task <span style=\"color: #008080; text-decoration-color: #008080; font-weight: bold\">3</span> of <span style=\"color: #008080; text-decoration-color: #008080; font-weight: bold\">10</span> completed                                                                   <a href=\"file://C:\\Users\\caTr1x\\AppData\\Local\\Temp\\ipykernel_668\\2594680452.py\" target=\"_blank\"><span style=\"color: #7f7f7f; text-decoration-color: #7f7f7f\">2594680452.py</span></a><span style=\"color: #7f7f7f; text-decoration-color: #7f7f7f\">:</span><a href=\"file://C:\\Users\\caTr1x\\AppData\\Local\\Temp\\ipykernel_668\\2594680452.py#4\" target=\"_blank\"><span style=\"color: #7f7f7f; text-decoration-color: #7f7f7f\">4</span></a>\n",
       "</pre>\n"
      ],
      "text/plain": [
       "\u001b[2;36m          \u001b[0m\u001b[2;36m \u001b[0mTask \u001b[1;36m3\u001b[0m of \u001b[1;36m10\u001b[0m completed                                                                   \u001b]8;id=701420;file://C:\\Users\\caTr1x\\AppData\\Local\\Temp\\ipykernel_668\\2594680452.py\u001b\\\u001b[2m2594680452.py\u001b[0m\u001b]8;;\u001b\\\u001b[2m:\u001b[0m\u001b]8;id=574597;file://C:\\Users\\caTr1x\\AppData\\Local\\Temp\\ipykernel_668\\2594680452.py#4\u001b\\\u001b[2m4\u001b[0m\u001b]8;;\u001b\\\n"
      ]
     },
     "metadata": {},
     "output_type": "display_data"
    },
    {
     "data": {
      "text/html": [
       "<pre style=\"white-space:pre;overflow-x:auto;line-height:normal;font-family:Menlo,'DejaVu Sans Mono',consolas,'Courier New',monospace\"><span style=\"color: #7fbfbf; text-decoration-color: #7fbfbf\">           </span>Task <span style=\"color: #008080; text-decoration-color: #008080; font-weight: bold\">4</span> of <span style=\"color: #008080; text-decoration-color: #008080; font-weight: bold\">10</span> completed                                                                   <a href=\"file://C:\\Users\\caTr1x\\AppData\\Local\\Temp\\ipykernel_668\\2594680452.py\" target=\"_blank\"><span style=\"color: #7f7f7f; text-decoration-color: #7f7f7f\">2594680452.py</span></a><span style=\"color: #7f7f7f; text-decoration-color: #7f7f7f\">:</span><a href=\"file://C:\\Users\\caTr1x\\AppData\\Local\\Temp\\ipykernel_668\\2594680452.py#4\" target=\"_blank\"><span style=\"color: #7f7f7f; text-decoration-color: #7f7f7f\">4</span></a>\n",
       "</pre>\n"
      ],
      "text/plain": [
       "\u001b[2;36m          \u001b[0m\u001b[2;36m \u001b[0mTask \u001b[1;36m4\u001b[0m of \u001b[1;36m10\u001b[0m completed                                                                   \u001b]8;id=928642;file://C:\\Users\\caTr1x\\AppData\\Local\\Temp\\ipykernel_668\\2594680452.py\u001b\\\u001b[2m2594680452.py\u001b[0m\u001b]8;;\u001b\\\u001b[2m:\u001b[0m\u001b]8;id=772734;file://C:\\Users\\caTr1x\\AppData\\Local\\Temp\\ipykernel_668\\2594680452.py#4\u001b\\\u001b[2m4\u001b[0m\u001b]8;;\u001b\\\n"
      ]
     },
     "metadata": {},
     "output_type": "display_data"
    },
    {
     "data": {
      "text/html": [
       "<pre style=\"white-space:pre;overflow-x:auto;line-height:normal;font-family:Menlo,'DejaVu Sans Mono',consolas,'Courier New',monospace\"><span style=\"color: #7fbfbf; text-decoration-color: #7fbfbf\">           </span>Task <span style=\"color: #008080; text-decoration-color: #008080; font-weight: bold\">5</span> of <span style=\"color: #008080; text-decoration-color: #008080; font-weight: bold\">10</span> completed                                                                   <a href=\"file://C:\\Users\\caTr1x\\AppData\\Local\\Temp\\ipykernel_668\\2594680452.py\" target=\"_blank\"><span style=\"color: #7f7f7f; text-decoration-color: #7f7f7f\">2594680452.py</span></a><span style=\"color: #7f7f7f; text-decoration-color: #7f7f7f\">:</span><a href=\"file://C:\\Users\\caTr1x\\AppData\\Local\\Temp\\ipykernel_668\\2594680452.py#4\" target=\"_blank\"><span style=\"color: #7f7f7f; text-decoration-color: #7f7f7f\">4</span></a>\n",
       "</pre>\n"
      ],
      "text/plain": [
       "\u001b[2;36m          \u001b[0m\u001b[2;36m \u001b[0mTask \u001b[1;36m5\u001b[0m of \u001b[1;36m10\u001b[0m completed                                                                   \u001b]8;id=419595;file://C:\\Users\\caTr1x\\AppData\\Local\\Temp\\ipykernel_668\\2594680452.py\u001b\\\u001b[2m2594680452.py\u001b[0m\u001b]8;;\u001b\\\u001b[2m:\u001b[0m\u001b]8;id=392077;file://C:\\Users\\caTr1x\\AppData\\Local\\Temp\\ipykernel_668\\2594680452.py#4\u001b\\\u001b[2m4\u001b[0m\u001b]8;;\u001b\\\n"
      ]
     },
     "metadata": {},
     "output_type": "display_data"
    },
    {
     "data": {
      "text/html": [
       "<pre style=\"white-space:pre;overflow-x:auto;line-height:normal;font-family:Menlo,'DejaVu Sans Mono',consolas,'Courier New',monospace\"><span style=\"color: #7fbfbf; text-decoration-color: #7fbfbf\">           </span>Task <span style=\"color: #008080; text-decoration-color: #008080; font-weight: bold\">6</span> of <span style=\"color: #008080; text-decoration-color: #008080; font-weight: bold\">10</span> completed                                                                   <a href=\"file://C:\\Users\\caTr1x\\AppData\\Local\\Temp\\ipykernel_668\\2594680452.py\" target=\"_blank\"><span style=\"color: #7f7f7f; text-decoration-color: #7f7f7f\">2594680452.py</span></a><span style=\"color: #7f7f7f; text-decoration-color: #7f7f7f\">:</span><a href=\"file://C:\\Users\\caTr1x\\AppData\\Local\\Temp\\ipykernel_668\\2594680452.py#4\" target=\"_blank\"><span style=\"color: #7f7f7f; text-decoration-color: #7f7f7f\">4</span></a>\n",
       "</pre>\n"
      ],
      "text/plain": [
       "\u001b[2;36m          \u001b[0m\u001b[2;36m \u001b[0mTask \u001b[1;36m6\u001b[0m of \u001b[1;36m10\u001b[0m completed                                                                   \u001b]8;id=854561;file://C:\\Users\\caTr1x\\AppData\\Local\\Temp\\ipykernel_668\\2594680452.py\u001b\\\u001b[2m2594680452.py\u001b[0m\u001b]8;;\u001b\\\u001b[2m:\u001b[0m\u001b]8;id=248156;file://C:\\Users\\caTr1x\\AppData\\Local\\Temp\\ipykernel_668\\2594680452.py#4\u001b\\\u001b[2m4\u001b[0m\u001b]8;;\u001b\\\n"
      ]
     },
     "metadata": {},
     "output_type": "display_data"
    },
    {
     "data": {
      "text/html": [
       "<pre style=\"white-space:pre;overflow-x:auto;line-height:normal;font-family:Menlo,'DejaVu Sans Mono',consolas,'Courier New',monospace\"><span style=\"color: #7fbfbf; text-decoration-color: #7fbfbf\">[19:09:24] </span>Task <span style=\"color: #008080; text-decoration-color: #008080; font-weight: bold\">7</span> of <span style=\"color: #008080; text-decoration-color: #008080; font-weight: bold\">10</span> completed                                                                   <a href=\"file://C:\\Users\\caTr1x\\AppData\\Local\\Temp\\ipykernel_668\\2594680452.py\" target=\"_blank\"><span style=\"color: #7f7f7f; text-decoration-color: #7f7f7f\">2594680452.py</span></a><span style=\"color: #7f7f7f; text-decoration-color: #7f7f7f\">:</span><a href=\"file://C:\\Users\\caTr1x\\AppData\\Local\\Temp\\ipykernel_668\\2594680452.py#4\" target=\"_blank\"><span style=\"color: #7f7f7f; text-decoration-color: #7f7f7f\">4</span></a>\n",
       "</pre>\n"
      ],
      "text/plain": [
       "\u001b[2;36m[19:09:24]\u001b[0m\u001b[2;36m \u001b[0mTask \u001b[1;36m7\u001b[0m of \u001b[1;36m10\u001b[0m completed                                                                   \u001b]8;id=692561;file://C:\\Users\\caTr1x\\AppData\\Local\\Temp\\ipykernel_668\\2594680452.py\u001b\\\u001b[2m2594680452.py\u001b[0m\u001b]8;;\u001b\\\u001b[2m:\u001b[0m\u001b]8;id=24238;file://C:\\Users\\caTr1x\\AppData\\Local\\Temp\\ipykernel_668\\2594680452.py#4\u001b\\\u001b[2m4\u001b[0m\u001b]8;;\u001b\\\n"
      ]
     },
     "metadata": {},
     "output_type": "display_data"
    },
    {
     "data": {
      "text/html": [
       "<pre style=\"white-space:pre;overflow-x:auto;line-height:normal;font-family:Menlo,'DejaVu Sans Mono',consolas,'Courier New',monospace\"><span style=\"color: #7fbfbf; text-decoration-color: #7fbfbf\">           </span>Task <span style=\"color: #008080; text-decoration-color: #008080; font-weight: bold\">8</span> of <span style=\"color: #008080; text-decoration-color: #008080; font-weight: bold\">10</span> completed                                                                   <a href=\"file://C:\\Users\\caTr1x\\AppData\\Local\\Temp\\ipykernel_668\\2594680452.py\" target=\"_blank\"><span style=\"color: #7f7f7f; text-decoration-color: #7f7f7f\">2594680452.py</span></a><span style=\"color: #7f7f7f; text-decoration-color: #7f7f7f\">:</span><a href=\"file://C:\\Users\\caTr1x\\AppData\\Local\\Temp\\ipykernel_668\\2594680452.py#4\" target=\"_blank\"><span style=\"color: #7f7f7f; text-decoration-color: #7f7f7f\">4</span></a>\n",
       "</pre>\n"
      ],
      "text/plain": [
       "\u001b[2;36m          \u001b[0m\u001b[2;36m \u001b[0mTask \u001b[1;36m8\u001b[0m of \u001b[1;36m10\u001b[0m completed                                                                   \u001b]8;id=909126;file://C:\\Users\\caTr1x\\AppData\\Local\\Temp\\ipykernel_668\\2594680452.py\u001b\\\u001b[2m2594680452.py\u001b[0m\u001b]8;;\u001b\\\u001b[2m:\u001b[0m\u001b]8;id=212697;file://C:\\Users\\caTr1x\\AppData\\Local\\Temp\\ipykernel_668\\2594680452.py#4\u001b\\\u001b[2m4\u001b[0m\u001b]8;;\u001b\\\n"
      ]
     },
     "metadata": {},
     "output_type": "display_data"
    },
    {
     "data": {
      "text/html": [
       "<pre style=\"white-space:pre;overflow-x:auto;line-height:normal;font-family:Menlo,'DejaVu Sans Mono',consolas,'Courier New',monospace\"><span style=\"color: #7fbfbf; text-decoration-color: #7fbfbf\">           </span>Task <span style=\"color: #008080; text-decoration-color: #008080; font-weight: bold\">9</span> of <span style=\"color: #008080; text-decoration-color: #008080; font-weight: bold\">10</span> completed                                                                   <a href=\"file://C:\\Users\\caTr1x\\AppData\\Local\\Temp\\ipykernel_668\\2594680452.py\" target=\"_blank\"><span style=\"color: #7f7f7f; text-decoration-color: #7f7f7f\">2594680452.py</span></a><span style=\"color: #7f7f7f; text-decoration-color: #7f7f7f\">:</span><a href=\"file://C:\\Users\\caTr1x\\AppData\\Local\\Temp\\ipykernel_668\\2594680452.py#4\" target=\"_blank\"><span style=\"color: #7f7f7f; text-decoration-color: #7f7f7f\">4</span></a>\n",
       "</pre>\n"
      ],
      "text/plain": [
       "\u001b[2;36m          \u001b[0m\u001b[2;36m \u001b[0mTask \u001b[1;36m9\u001b[0m of \u001b[1;36m10\u001b[0m completed                                                                   \u001b]8;id=86173;file://C:\\Users\\caTr1x\\AppData\\Local\\Temp\\ipykernel_668\\2594680452.py\u001b\\\u001b[2m2594680452.py\u001b[0m\u001b]8;;\u001b\\\u001b[2m:\u001b[0m\u001b]8;id=830136;file://C:\\Users\\caTr1x\\AppData\\Local\\Temp\\ipykernel_668\\2594680452.py#4\u001b\\\u001b[2m4\u001b[0m\u001b]8;;\u001b\\\n"
      ]
     },
     "metadata": {},
     "output_type": "display_data"
    },
    {
     "data": {
      "text/html": [
       "<pre style=\"white-space:pre;overflow-x:auto;line-height:normal;font-family:Menlo,'DejaVu Sans Mono',consolas,'Courier New',monospace\"><span style=\"color: #7fbfbf; text-decoration-color: #7fbfbf\">           </span>Task <span style=\"color: #008080; text-decoration-color: #008080; font-weight: bold\">10</span> of <span style=\"color: #008080; text-decoration-color: #008080; font-weight: bold\">10</span> completed                                                                  <a href=\"file://C:\\Users\\caTr1x\\AppData\\Local\\Temp\\ipykernel_668\\2594680452.py\" target=\"_blank\"><span style=\"color: #7f7f7f; text-decoration-color: #7f7f7f\">2594680452.py</span></a><span style=\"color: #7f7f7f; text-decoration-color: #7f7f7f\">:</span><a href=\"file://C:\\Users\\caTr1x\\AppData\\Local\\Temp\\ipykernel_668\\2594680452.py#4\" target=\"_blank\"><span style=\"color: #7f7f7f; text-decoration-color: #7f7f7f\">4</span></a>\n",
       "</pre>\n"
      ],
      "text/plain": [
       "\u001b[2;36m          \u001b[0m\u001b[2;36m \u001b[0mTask \u001b[1;36m10\u001b[0m of \u001b[1;36m10\u001b[0m completed                                                                  \u001b]8;id=73817;file://C:\\Users\\caTr1x\\AppData\\Local\\Temp\\ipykernel_668\\2594680452.py\u001b\\\u001b[2m2594680452.py\u001b[0m\u001b]8;;\u001b\\\u001b[2m:\u001b[0m\u001b]8;id=250045;file://C:\\Users\\caTr1x\\AppData\\Local\\Temp\\ipykernel_668\\2594680452.py#4\u001b\\\u001b[2m4\u001b[0m\u001b]8;;\u001b\\\n"
      ]
     },
     "metadata": {},
     "output_type": "display_data"
    },
    {
     "data": {
      "text/html": [
       "<pre style=\"white-space:pre;overflow-x:auto;line-height:normal;font-family:Menlo,'DejaVu Sans Mono',consolas,'Courier New',monospace\"></pre>\n"
      ],
      "text/plain": []
     },
     "metadata": {},
     "output_type": "display_data"
    }
   ],
   "source": [
    "with console.status(\"[bold green]Working on tasks...\") as status:\n",
    "    for i in range(10):\n",
    "        time.sleep(0.2)\n",
    "        console.log(f\"Task {i+1} of 10 completed\")"
   ]
  },
  {
   "cell_type": "markdown",
   "id": "000d2eda",
   "metadata": {},
   "source": [
    "### 6 Better-Looking Error Messages"
   ]
  },
  {
   "cell_type": "code",
   "execution_count": 7,
   "id": "ec24bb7a",
   "metadata": {},
   "outputs": [
    {
     "ename": "RuntimeError",
     "evalue": "Test Error Message",
     "output_type": "error",
     "traceback": [
      "\u001b[31m---------------------------------------------------------------------------\u001b[39m",
      "\u001b[31mRuntimeError\u001b[39m                              Traceback (most recent call last)",
      "\u001b[36mCell\u001b[39m\u001b[36m \u001b[39m\u001b[32mIn[7]\u001b[39m\u001b[32m, line 1\u001b[39m\n\u001b[32m----> \u001b[39m\u001b[32m1\u001b[39m \u001b[38;5;28;01mraise\u001b[39;00m \u001b[38;5;167;01mRuntimeError\u001b[39;00m(\u001b[33m\"\u001b[39m\u001b[33mTest Error Message\u001b[39m\u001b[33m\"\u001b[39m)\n",
      "\u001b[31mRuntimeError\u001b[39m: Test Error Message"
     ]
    }
   ],
   "source": [
    "raise RuntimeError(\"Test Error Message\")"
   ]
  },
  {
   "cell_type": "code",
   "execution_count": 8,
   "id": "edcb6069",
   "metadata": {},
   "outputs": [
    {
     "data": {
      "text/html": [
       "<pre style=\"white-space:pre;overflow-x:auto;line-height:normal;font-family:Menlo,'DejaVu Sans Mono',consolas,'Courier New',monospace\"><span style=\"color: #800000; text-decoration-color: #800000\">╭─────────────────────────────── </span><span style=\"color: #800000; text-decoration-color: #800000; font-weight: bold\">Traceback </span><span style=\"color: #bf7f7f; text-decoration-color: #bf7f7f; font-weight: bold\">(most recent call last)</span><span style=\"color: #800000; text-decoration-color: #800000\"> ────────────────────────────────╮</span>\n",
       "<span style=\"color: #800000; text-decoration-color: #800000\">│</span> in &lt;module&gt;:3                                                                                    <span style=\"color: #800000; text-decoration-color: #800000\">│</span>\n",
       "<span style=\"color: #800000; text-decoration-color: #800000\">│</span>                                                                                                  <span style=\"color: #800000; text-decoration-color: #800000\">│</span>\n",
       "<span style=\"color: #800000; text-decoration-color: #800000\">│</span>   <span style=\"color: #7f7f7f; text-decoration-color: #7f7f7f\">1 </span><span style=\"color: #0000ff; text-decoration-color: #0000ff\">from</span><span style=\"color: #808080; text-decoration-color: #808080\"> </span><span style=\"color: #00ffff; text-decoration-color: #00ffff; text-decoration: underline\">rich</span><span style=\"color: #808080; text-decoration-color: #808080\"> </span><span style=\"color: #0000ff; text-decoration-color: #0000ff\">import</span> traceback                                                                   <span style=\"color: #800000; text-decoration-color: #800000\">│</span>\n",
       "<span style=\"color: #800000; text-decoration-color: #800000\">│</span>   <span style=\"color: #7f7f7f; text-decoration-color: #7f7f7f\">2 </span>traceback.install()                                                                          <span style=\"color: #800000; text-decoration-color: #800000\">│</span>\n",
       "<span style=\"color: #800000; text-decoration-color: #800000\">│</span> <span style=\"color: #800000; text-decoration-color: #800000\">❱ </span>3 <span style=\"color: #0000ff; text-decoration-color: #0000ff; font-weight: bold; text-decoration: underline\">raise</span><span style=\"font-weight: bold; text-decoration: underline\"> </span><span style=\"color: #00ffff; text-decoration-color: #00ffff; font-weight: bold; text-decoration: underline\">RuntimeError</span><span style=\"font-weight: bold; text-decoration: underline\">(</span><span style=\"color: #808000; text-decoration-color: #808000; font-weight: bold; text-decoration: underline\">\"Test Error Message\"</span><span style=\"font-weight: bold; text-decoration: underline\">)</span>                                                     <span style=\"color: #800000; text-decoration-color: #800000\">│</span>\n",
       "<span style=\"color: #800000; text-decoration-color: #800000\">│</span>   <span style=\"color: #7f7f7f; text-decoration-color: #7f7f7f\">4 </span>                                                                                             <span style=\"color: #800000; text-decoration-color: #800000\">│</span>\n",
       "<span style=\"color: #800000; text-decoration-color: #800000\">╰──────────────────────────────────────────────────────────────────────────────────────────────────╯</span>\n",
       "<span style=\"color: #ff0000; text-decoration-color: #ff0000; font-weight: bold\">RuntimeError: </span>Test Error Message\n",
       "</pre>\n"
      ],
      "text/plain": [
       "\u001b[31m╭─\u001b[0m\u001b[31m──────────────────────────────\u001b[0m\u001b[31m \u001b[0m\u001b[1;31mTraceback \u001b[0m\u001b[1;2;31m(most recent call last)\u001b[0m\u001b[31m \u001b[0m\u001b[31m───────────────────────────────\u001b[0m\u001b[31m─╮\u001b[0m\n",
       "\u001b[31m│\u001b[0m in <module>:3                                                                                    \u001b[31m│\u001b[0m\n",
       "\u001b[31m│\u001b[0m                                                                                                  \u001b[31m│\u001b[0m\n",
       "\u001b[31m│\u001b[0m   \u001b[2m1 \u001b[0m\u001b[94mfrom\u001b[0m\u001b[90m \u001b[0m\u001b[4;96mrich\u001b[0m\u001b[90m \u001b[0m\u001b[94mimport\u001b[0m traceback                                                                   \u001b[31m│\u001b[0m\n",
       "\u001b[31m│\u001b[0m   \u001b[2m2 \u001b[0mtraceback.install()                                                                          \u001b[31m│\u001b[0m\n",
       "\u001b[31m│\u001b[0m \u001b[31m❱ \u001b[0m3 \u001b[1;4;94mraise\u001b[0m\u001b[1;4m \u001b[0m\u001b[1;4;96mRuntimeError\u001b[0m\u001b[1;4m(\u001b[0m\u001b[1;4;33m\"\u001b[0m\u001b[1;4;33mTest Error Message\u001b[0m\u001b[1;4;33m\"\u001b[0m\u001b[1;4m)\u001b[0m                                                     \u001b[31m│\u001b[0m\n",
       "\u001b[31m│\u001b[0m   \u001b[2m4 \u001b[0m                                                                                             \u001b[31m│\u001b[0m\n",
       "\u001b[31m╰──────────────────────────────────────────────────────────────────────────────────────────────────╯\u001b[0m\n",
       "\u001b[1;91mRuntimeError: \u001b[0mTest Error Message\n"
      ]
     },
     "metadata": {},
     "output_type": "display_data"
    }
   ],
   "source": [
    "from rich import traceback\n",
    "traceback.install()\n",
    "raise RuntimeError(\"Test Error Message\")"
   ]
  },
  {
   "cell_type": "markdown",
   "id": "88c0ad82",
   "metadata": {},
   "source": [
    "### 7 - Logging\n",
    "The `rich` module can be integrated to the official `logging` module of python"
   ]
  },
  {
   "cell_type": "code",
   "execution_count": null,
   "id": "bb2d54e0",
   "metadata": {},
   "outputs": [
    {
     "data": {
      "text/html": [
       "<pre style=\"white-space:pre;overflow-x:auto;line-height:normal;font-family:Menlo,'DejaVu Sans Mono',consolas,'Courier New',monospace\"><span style=\"color: #7fbfbf; text-decoration-color: #7fbfbf\">[09/10/25 18:59:24] </span><span style=\"color: #000080; text-decoration-color: #000080\">INFO    </span> INFO:myModule:Infromation                                               <a href=\"file://C:\\Users\\caTr1x\\AppData\\Local\\Temp\\ipykernel_28284\\957109389.py\" target=\"_blank\"><span style=\"color: #7f7f7f; text-decoration-color: #7f7f7f\">957109389.py</span></a><span style=\"color: #7f7f7f; text-decoration-color: #7f7f7f\">:</span><a href=\"file://C:\\Users\\caTr1x\\AppData\\Local\\Temp\\ipykernel_28284\\957109389.py#7\" target=\"_blank\"><span style=\"color: #7f7f7f; text-decoration-color: #7f7f7f\">7</span></a>\n",
       "</pre>\n"
      ],
      "text/plain": [
       "\u001b[2;36m[09/10/25 18:59:24]\u001b[0m\u001b[2;36m \u001b[0m\u001b[34mINFO    \u001b[0m INFO:myModule:Infromation                                               \u001b]8;id=647464;file://C:\\Users\\caTr1x\\AppData\\Local\\Temp\\ipykernel_28284\\957109389.py\u001b\\\u001b[2m957109389.py\u001b[0m\u001b]8;;\u001b\\\u001b[2m:\u001b[0m\u001b]8;id=560409;file://C:\\Users\\caTr1x\\AppData\\Local\\Temp\\ipykernel_28284\\957109389.py#7\u001b\\\u001b[2m7\u001b[0m\u001b]8;;\u001b\\\n"
      ]
     },
     "metadata": {},
     "output_type": "display_data"
    },
    {
     "data": {
      "text/html": [
       "<pre style=\"white-space:pre;overflow-x:auto;line-height:normal;font-family:Menlo,'DejaVu Sans Mono',consolas,'Courier New',monospace\"><span style=\"color: #7fbfbf; text-decoration-color: #7fbfbf\">                    </span><span style=\"background-color: #800000; font-weight: bold\">CRITICAL</span> CRITICAL:myModul<span style=\"color: #00ff00; text-decoration-color: #00ff00; font-weight: bold\">e:C</span>ritical                                              <a href=\"file://C:\\Users\\caTr1x\\AppData\\Local\\Temp\\ipykernel_28284\\957109389.py\" target=\"_blank\"><span style=\"color: #7f7f7f; text-decoration-color: #7f7f7f\">957109389.py</span></a><span style=\"color: #7f7f7f; text-decoration-color: #7f7f7f\">:</span><a href=\"file://C:\\Users\\caTr1x\\AppData\\Local\\Temp\\ipykernel_28284\\957109389.py#8\" target=\"_blank\"><span style=\"color: #7f7f7f; text-decoration-color: #7f7f7f\">8</span></a>\n",
       "</pre>\n"
      ],
      "text/plain": [
       "\u001b[2;36m                   \u001b[0m\u001b[2;36m \u001b[0m\u001b[1;7;31mCRITICAL\u001b[0m CRITICAL:myModul\u001b[1;92me:C\u001b[0mritical                                              \u001b]8;id=46619;file://C:\\Users\\caTr1x\\AppData\\Local\\Temp\\ipykernel_28284\\957109389.py\u001b\\\u001b[2m957109389.py\u001b[0m\u001b]8;;\u001b\\\u001b[2m:\u001b[0m\u001b]8;id=66920;file://C:\\Users\\caTr1x\\AppData\\Local\\Temp\\ipykernel_28284\\957109389.py#8\u001b\\\u001b[2m8\u001b[0m\u001b]8;;\u001b\\\n"
      ]
     },
     "metadata": {},
     "output_type": "display_data"
    },
    {
     "data": {
      "text/html": [
       "<pre style=\"white-space:pre;overflow-x:auto;line-height:normal;font-family:Menlo,'DejaVu Sans Mono',consolas,'Courier New',monospace\"><span style=\"color: #7fbfbf; text-decoration-color: #7fbfbf\">                    </span><span style=\"color: #008000; text-decoration-color: #008000\">DEBUG   </span> DEBUG:myModul<span style=\"color: #00ff00; text-decoration-color: #00ff00; font-weight: bold\">e:Deb</span>ug                                                    <a href=\"file://C:\\Users\\caTr1x\\AppData\\Local\\Temp\\ipykernel_28284\\957109389.py\" target=\"_blank\"><span style=\"color: #7f7f7f; text-decoration-color: #7f7f7f\">957109389.py</span></a><span style=\"color: #7f7f7f; text-decoration-color: #7f7f7f\">:</span><a href=\"file://C:\\Users\\caTr1x\\AppData\\Local\\Temp\\ipykernel_28284\\957109389.py#9\" target=\"_blank\"><span style=\"color: #7f7f7f; text-decoration-color: #7f7f7f\">9</span></a>\n",
       "</pre>\n"
      ],
      "text/plain": [
       "\u001b[2;36m                   \u001b[0m\u001b[2;36m \u001b[0m\u001b[32mDEBUG   \u001b[0m DEBUG:myModul\u001b[1;92me:Deb\u001b[0mug                                                    \u001b]8;id=912414;file://C:\\Users\\caTr1x\\AppData\\Local\\Temp\\ipykernel_28284\\957109389.py\u001b\\\u001b[2m957109389.py\u001b[0m\u001b]8;;\u001b\\\u001b[2m:\u001b[0m\u001b]8;id=107675;file://C:\\Users\\caTr1x\\AppData\\Local\\Temp\\ipykernel_28284\\957109389.py#9\u001b\\\u001b[2m9\u001b[0m\u001b]8;;\u001b\\\n"
      ]
     },
     "metadata": {},
     "output_type": "display_data"
    },
    {
     "data": {
      "text/html": [
       "<pre style=\"white-space:pre;overflow-x:auto;line-height:normal;font-family:Menlo,'DejaVu Sans Mono',consolas,'Courier New',monospace\"><span style=\"color: #7fbfbf; text-decoration-color: #7fbfbf\">                    </span><span style=\"color: #808000; text-decoration-color: #808000\">WARNING </span> WARNING:myModule:Warning                                               <a href=\"file://C:\\Users\\caTr1x\\AppData\\Local\\Temp\\ipykernel_28284\\957109389.py\" target=\"_blank\"><span style=\"color: #7f7f7f; text-decoration-color: #7f7f7f\">957109389.py</span></a><span style=\"color: #7f7f7f; text-decoration-color: #7f7f7f\">:</span><a href=\"file://C:\\Users\\caTr1x\\AppData\\Local\\Temp\\ipykernel_28284\\957109389.py#10\" target=\"_blank\"><span style=\"color: #7f7f7f; text-decoration-color: #7f7f7f\">10</span></a>\n",
       "</pre>\n"
      ],
      "text/plain": [
       "\u001b[2;36m                   \u001b[0m\u001b[2;36m \u001b[0m\u001b[33mWARNING \u001b[0m WARNING:myModule:Warning                                               \u001b]8;id=226276;file://C:\\Users\\caTr1x\\AppData\\Local\\Temp\\ipykernel_28284\\957109389.py\u001b\\\u001b[2m957109389.py\u001b[0m\u001b]8;;\u001b\\\u001b[2m:\u001b[0m\u001b]8;id=192209;file://C:\\Users\\caTr1x\\AppData\\Local\\Temp\\ipykernel_28284\\957109389.py#10\u001b\\\u001b[2m10\u001b[0m\u001b]8;;\u001b\\\n"
      ]
     },
     "metadata": {},
     "output_type": "display_data"
    }
   ],
   "source": [
    "# Import logging module\n",
    "import logging\n",
    "from rich.logging import RichHandler\n",
    "\n",
    "logging.basicConfig(level=2, handlers=[RichHandler()])\n",
    "log = logging.getLogger(\"myModule\")\n",
    "log.info(\"Infromation\")\n",
    "log.critical(\"Critical\")\n",
    "log.debug(\"Debug\")\n",
    "log.warning(\"Warning\")"
   ]
  }
 ],
 "metadata": {
  "kernelspec": {
   "display_name": "Python 3",
   "language": "python",
   "name": "python3"
  },
  "language_info": {
   "codemirror_mode": {
    "name": "ipython",
    "version": 3
   },
   "file_extension": ".py",
   "mimetype": "text/x-python",
   "name": "python",
   "nbconvert_exporter": "python",
   "pygments_lexer": "ipython3",
   "version": "3.13.3"
  }
 },
 "nbformat": 4,
 "nbformat_minor": 5
}
